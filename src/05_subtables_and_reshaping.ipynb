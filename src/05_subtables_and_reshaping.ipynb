{
 "cells": [
  {
   "cell_type": "code",
   "execution_count": 1,
   "id": "bed6c5ef",
   "metadata": {},
   "outputs": [],
   "source": [
    "import numpy as np\n",
    "import pandas as pd"
   ]
  },
  {
   "cell_type": "code",
   "execution_count": 2,
   "id": "6a94b2cb",
   "metadata": {},
   "outputs": [],
   "source": [
    "data_frame = pd.DataFrame(\n",
    "    np.array([[1, 2, 3], [4, 5, 6], [7, 8, 9]]), columns=[\"A\", \"B\", \"C\"]\n",
    ")"
   ]
  },
  {
   "cell_type": "code",
   "execution_count": 3,
   "id": "dc104efe",
   "metadata": {},
   "outputs": [
    {
     "name": "stdout",
     "output_type": "stream",
     "text": [
      "All rows except row 1\n",
      "   A  B  C\n",
      "0  1  2  3\n",
      "2  7  8  9\n",
      "\n"
     ]
    }
   ],
   "source": [
    "# all rows except row 1\n",
    "print(\"All rows except row 1\")\n",
    "print(data_frame.drop(data_frame.index[1], axis=0))\n",
    "print()"
   ]
  },
  {
   "cell_type": "code",
   "execution_count": 4,
   "id": "4f487727",
   "metadata": {},
   "outputs": [
    {
     "name": "stdout",
     "output_type": "stream",
     "text": [
      "Rows between index 0 and 1\n",
      "   A  B  C\n",
      "0  1  2  3\n",
      "1  4  5  6\n",
      "\n"
     ]
    }
   ],
   "source": [
    "# rows between index 0 and 1\n",
    "print(\"Rows between index 0 and 1\")\n",
    "print(data_frame.iloc[0:2])\n",
    "print()"
   ]
  },
  {
   "cell_type": "code",
   "execution_count": 5,
   "id": "de91790f",
   "metadata": {},
   "outputs": [
    {
     "name": "stdout",
     "output_type": "stream",
     "text": [
      "All columns except column A\n",
      "   B  C\n",
      "0  2  3\n",
      "1  5  6\n",
      "2  8  9\n",
      "\n"
     ]
    }
   ],
   "source": [
    "# all columns except column 'A'\n",
    "print(\"All columns except column A\")\n",
    "print(data_frame.drop(\"A\", axis=1))\n",
    "print()"
   ]
  },
  {
   "cell_type": "code",
   "execution_count": 6,
   "id": "6098b1d5",
   "metadata": {},
   "outputs": [
    {
     "name": "stdout",
     "output_type": "stream",
     "text": [
      "Columns between index 0 and 1\n",
      "   A  B\n",
      "0  1  2\n",
      "1  4  5\n",
      "2  7  8\n",
      "\n"
     ]
    }
   ],
   "source": [
    "# columns between index 0 and 1\n",
    "print(\"Columns between index 0 and 1\")\n",
    "print(data_frame.iloc[:, 0:2])\n",
    "print()"
   ]
  }
 ],
 "metadata": {
  "kernelspec": {
   "display_name": "Python 3 (ipykernel)",
   "language": "python",
   "name": "python3"
  },
  "language_info": {
   "codemirror_mode": {
    "name": "ipython",
    "version": 3
   },
   "file_extension": ".py",
   "mimetype": "text/x-python",
   "name": "python",
   "nbconvert_exporter": "python",
   "pygments_lexer": "ipython3",
   "version": "3.10.6"
  }
 },
 "nbformat": 4,
 "nbformat_minor": 5
}
