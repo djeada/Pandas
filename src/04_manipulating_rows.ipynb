{
 "cells": [
  {
   "cell_type": "code",
   "execution_count": 1,
   "id": "09f7dba4",
   "metadata": {},
   "outputs": [],
   "source": [
    "import numpy as np\n",
    "import pandas as pd"
   ]
  },
  {
   "cell_type": "code",
   "execution_count": 2,
   "id": "8945ed62",
   "metadata": {},
   "outputs": [],
   "source": [
    "data_frame = pd.DataFrame(\n",
    "    np.array([[1, 2, 3], [4, 5, 6], [7, 8, 9]]), columns=[\"A\", \"B\", \"C\"]\n",
    ")"
   ]
  },
  {
   "cell_type": "code",
   "execution_count": 3,
   "id": "0362cf13",
   "metadata": {},
   "outputs": [
    {
     "name": "stdout",
     "output_type": "stream",
     "text": [
      "Select row on index 1\n",
      "A    4\n",
      "B    5\n",
      "C    6\n",
      "Name: 1, dtype: int64\n",
      "\n"
     ]
    }
   ],
   "source": [
    "# select row by index\n",
    "print(\"Select row on index 1\")\n",
    "print(data_frame.iloc[1])\n",
    "print()"
   ]
  },
  {
   "cell_type": "code",
   "execution_count": 4,
   "id": "0a878208",
   "metadata": {},
   "outputs": [
    {
     "name": "stdout",
     "output_type": "stream",
     "text": [
      "Select rows on indices from 0 to 1\n",
      "   A  B  C\n",
      "0  1  2  3\n",
      "1  4  5  6\n"
     ]
    }
   ],
   "source": [
    "# select multiple rows by index\n",
    "print(\"Select rows on indices from 0 to 1\")\n",
    "print(data_frame.iloc[0:2])"
   ]
  },
  {
   "cell_type": "code",
   "execution_count": 5,
   "id": "e529ac06",
   "metadata": {},
   "outputs": [
    {
     "name": "stdout",
     "output_type": "stream",
     "text": [
      "Exchange row 0 with a list\n",
      "    A   B   C\n",
      "0  10  20  30\n",
      "1   4   5   6\n",
      "2   7   8   9\n"
     ]
    }
   ],
   "source": [
    "# exchange row with a list\n",
    "example_list = [10, 20, 30]\n",
    "data_frame.iloc[0] = example_list\n",
    "print(\"Exchange row 0 with a list\")\n",
    "print(data_frame)"
   ]
  },
  {
   "cell_type": "code",
   "execution_count": 6,
   "id": "7fba7572",
   "metadata": {},
   "outputs": [
    {
     "name": "stdout",
     "output_type": "stream",
     "text": [
      "Append row 3 at the end of the data frame\n",
      "     A    B    C\n",
      "0   10   20   30\n",
      "1    4    5    6\n",
      "2    7    8    9\n",
      "3  100  200  300\n"
     ]
    }
   ],
   "source": [
    "# append row at the end of the data frame\n",
    "data_frame.loc[3] = [100, 200, 300]\n",
    "print(\"Append row 3 at the end of the data frame\")\n",
    "print(data_frame)"
   ]
  },
  {
   "cell_type": "code",
   "execution_count": 7,
   "id": "55794878",
   "metadata": {},
   "outputs": [
    {
     "name": "stdout",
     "output_type": "stream",
     "text": [
      "Add row 1 at index 1\n",
      "     A    B    C\n",
      "0   10   20   30\n",
      "1    1    2    3\n",
      "2    7    8    9\n",
      "3  100  200  300\n"
     ]
    }
   ],
   "source": [
    "# add row with values 1, 2, 3 at index 1\n",
    "data_frame.loc[1] = [1, 2, 3]\n",
    "print(\"Add row 1 at index 1\")\n",
    "print(data_frame)"
   ]
  },
  {
   "cell_type": "code",
   "execution_count": 8,
   "id": "1dc18509",
   "metadata": {},
   "outputs": [
    {
     "name": "stdout",
     "output_type": "stream",
     "text": [
      "Drop row at index 1\n",
      "     A    B    C\n",
      "0   10   20   30\n",
      "2    7    8    9\n",
      "3  100  200  300\n"
     ]
    }
   ],
   "source": [
    "# drop row at index 1\n",
    "data_frame.drop(data_frame.index[1], axis=0, inplace=True)\n",
    "print(\"Drop row at index 1\")\n",
    "print(data_frame)"
   ]
  }
 ],
 "metadata": {
  "kernelspec": {
   "display_name": "Python 3 (ipykernel)",
   "language": "python",
   "name": "python3"
  },
  "language_info": {
   "codemirror_mode": {
    "name": "ipython",
    "version": 3
   },
   "file_extension": ".py",
   "mimetype": "text/x-python",
   "name": "python",
   "nbconvert_exporter": "python",
   "pygments_lexer": "ipython3",
   "version": "3.10.6"
  }
 },
 "nbformat": 4,
 "nbformat_minor": 5
}
