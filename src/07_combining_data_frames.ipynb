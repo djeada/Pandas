{
 "cells": [
  {
   "cell_type": "code",
   "execution_count": 1,
   "id": "d697050f",
   "metadata": {},
   "outputs": [],
   "source": [
    "import numpy as np\n",
    "import pandas as pd"
   ]
  },
  {
   "cell_type": "code",
   "execution_count": 2,
   "id": "3d6a400d",
   "metadata": {},
   "outputs": [],
   "source": [
    "data_frame_a = pd.DataFrame(\n",
    "    np.array([[1, 2, 3], [4, 5, 6], [7, 8, 9]]), columns=[\"A\", \"B\", \"C\"]\n",
    ")\n",
    "data_frame_b = pd.DataFrame(\n",
    "    np.array([[10, 11, 12], [13, 14, 15], [16, 17, 18]]), columns=[\"D\", \"E\", \"F\"]\n",
    ")"
   ]
  },
  {
   "cell_type": "code",
   "execution_count": 3,
   "id": "ca00d531",
   "metadata": {},
   "outputs": [
    {
     "name": "stdout",
     "output_type": "stream",
     "text": [
      "One below the other\n",
      "     A    B    C     D     E     F\n",
      "0  1.0  2.0  3.0   NaN   NaN   NaN\n",
      "1  4.0  5.0  6.0   NaN   NaN   NaN\n",
      "2  7.0  8.0  9.0   NaN   NaN   NaN\n",
      "0  NaN  NaN  NaN  10.0  11.0  12.0\n",
      "1  NaN  NaN  NaN  13.0  14.0  15.0\n",
      "2  NaN  NaN  NaN  16.0  17.0  18.0\n",
      "\n",
      "    A   B   C\n",
      "0   1   2   3\n",
      "1   4   5   6\n",
      "2   7   8   9\n",
      "0  10  11  12\n",
      "1  13  14  15\n",
      "2  16  17  18\n",
      "\n"
     ]
    }
   ],
   "source": [
    "## one below the other\n",
    "print(\"One below the other\")\n",
    "print(pd.concat([data_frame_a, data_frame_b], axis=0))\n",
    "print()\n",
    "\n",
    "# they need to have the same columns\n",
    "print(\n",
    "    pd.concat(\n",
    "        [data_frame_a, data_frame_b.rename(columns={\"D\": \"A\", \"E\": \"B\", \"F\": \"C\"})],\n",
    "        axis=0,\n",
    "    )\n",
    ")\n",
    "print()"
   ]
  },
  {
   "cell_type": "code",
   "execution_count": 4,
   "id": "48716540",
   "metadata": {},
   "outputs": [
    {
     "name": "stdout",
     "output_type": "stream",
     "text": [
      "Side by side\n",
      "   A  B  C   D   E   F\n",
      "0  1  2  3  10  11  12\n",
      "1  4  5  6  13  14  15\n",
      "2  7  8  9  16  17  18\n",
      "\n"
     ]
    }
   ],
   "source": [
    "## side by side\n",
    "print(\"Side by side\")\n",
    "print(pd.concat([data_frame_a, data_frame_b], axis=1))\n",
    "print()"
   ]
  },
  {
   "cell_type": "code",
   "execution_count": 5,
   "id": "ef53f928",
   "metadata": {},
   "outputs": [
    {
     "name": "stdout",
     "output_type": "stream",
     "text": [
      "Merge data frames\n",
      "   A  B  C   D   E   F\n",
      "0  1  2  3  10  11  12\n",
      "1  4  5  6  13  14  15\n",
      "2  7  8  9  16  17  18\n",
      "\n"
     ]
    }
   ],
   "source": [
    "# merge data frames with different column names\n",
    "print(\"Merge data frames\")\n",
    "print(pd.merge(data_frame_a, data_frame_b, left_index=True, right_index=True))\n",
    "print()"
   ]
  },
  {
   "cell_type": "code",
   "execution_count": 6,
   "id": "116020f8",
   "metadata": {},
   "outputs": [
    {
     "name": "stdout",
     "output_type": "stream",
     "text": [
      "Merge data frames with repeated column name\n",
      "   A  B  C  X  XX\n",
      "0  1  2  3  2   3\n",
      "\n"
     ]
    }
   ],
   "source": [
    "# merge data frames when one column has the same name\n",
    "print(\"Merge data frames with repeated column name\")\n",
    "another_data_frame = pd.DataFrame(\n",
    "    np.array([[1, 2, 3], [13, 14, 15], [16, 17, 18]]), columns=[\"A\", \"X\", \"XX\"]\n",
    ")\n",
    "print(pd.merge(data_frame_a, another_data_frame, on=\"A\"))\n",
    "print()"
   ]
  },
  {
   "cell_type": "code",
   "execution_count": 7,
   "id": "57bafbca",
   "metadata": {},
   "outputs": [
    {
     "name": "stdout",
     "output_type": "stream",
     "text": [
      "Outer join\n",
      "    A    B    C     X    XX\n",
      "0   1  2.0  3.0   2.0   3.0\n",
      "1   4  5.0  6.0   NaN   NaN\n",
      "2   7  8.0  9.0   NaN   NaN\n",
      "3  13  NaN  NaN  14.0  15.0\n",
      "4  16  NaN  NaN  17.0  18.0\n",
      "\n"
     ]
    }
   ],
   "source": [
    "# outer join\n",
    "print(\"Outer join\")\n",
    "print(pd.merge(data_frame_a, another_data_frame, on=\"A\", how=\"outer\"))\n",
    "print()"
   ]
  },
  {
   "cell_type": "code",
   "execution_count": 8,
   "id": "fb5463e0",
   "metadata": {},
   "outputs": [
    {
     "name": "stdout",
     "output_type": "stream",
     "text": [
      "Inner join\n",
      "   A  B  C  X  XX\n",
      "0  1  2  3  2   3\n",
      "\n"
     ]
    }
   ],
   "source": [
    "# inner join\n",
    "print(\"Inner join\")\n",
    "print(pd.merge(data_frame_a, another_data_frame, on=\"A\", how=\"inner\"))\n",
    "print()"
   ]
  },
  {
   "cell_type": "code",
   "execution_count": 9,
   "id": "663da3e3",
   "metadata": {},
   "outputs": [
    {
     "name": "stdout",
     "output_type": "stream",
     "text": [
      "Left join\n",
      "   A  B  C    X   XX\n",
      "0  1  2  3  2.0  3.0\n",
      "1  4  5  6  NaN  NaN\n",
      "2  7  8  9  NaN  NaN\n",
      "\n"
     ]
    }
   ],
   "source": [
    "# left join\n",
    "print(\"Left join\")\n",
    "print(pd.merge(data_frame_a, another_data_frame, on=\"A\", how=\"left\"))\n",
    "print()"
   ]
  },
  {
   "cell_type": "code",
   "execution_count": 10,
   "id": "2523a5a4",
   "metadata": {},
   "outputs": [
    {
     "name": "stdout",
     "output_type": "stream",
     "text": [
      "Right join\n",
      "    A    B    C   X  XX\n",
      "0   1  2.0  3.0   2   3\n",
      "1  13  NaN  NaN  14  15\n",
      "2  16  NaN  NaN  17  18\n",
      "\n"
     ]
    }
   ],
   "source": [
    "# right join\n",
    "print(\"Right join\")\n",
    "print(pd.merge(data_frame_a, another_data_frame, on=\"A\", how=\"right\"))\n",
    "print()"
   ]
  }
 ],
 "metadata": {
  "kernelspec": {
   "display_name": "Python 3 (ipykernel)",
   "language": "python",
   "name": "python3"
  },
  "language_info": {
   "codemirror_mode": {
    "name": "ipython",
    "version": 3
   },
   "file_extension": ".py",
   "mimetype": "text/x-python",
   "name": "python",
   "nbconvert_exporter": "python",
   "pygments_lexer": "ipython3",
   "version": "3.10.6"
  }
 },
 "nbformat": 4,
 "nbformat_minor": 5
}
