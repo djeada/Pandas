{
 "cells": [
  {
   "cell_type": "code",
   "execution_count": 1,
   "id": "c76efd38",
   "metadata": {},
   "outputs": [],
   "source": [
    "import numpy as np\n",
    "import pandas as pd"
   ]
  },
  {
   "cell_type": "code",
   "execution_count": 2,
   "id": "6fcb4cf7",
   "metadata": {},
   "outputs": [],
   "source": [
    "data_frame = pd.DataFrame(\n",
    "    np.array([[1, 2, 3], [4, 5, 6], [7, 8, 9]]), columns=[\"A\", \"B\", \"C\"]\n",
    ")"
   ]
  },
  {
   "cell_type": "code",
   "execution_count": 3,
   "id": "01717371",
   "metadata": {},
   "outputs": [
    {
     "name": "stdout",
     "output_type": "stream",
     "text": [
      "Cell at row 1, column 2: 6\n",
      "\n"
     ]
    }
   ],
   "source": [
    "# get a cell by row and column index\n",
    "print(f\"Cell at row 1, column 2: {data_frame.iloc[1, 2]}\")\n",
    "print()"
   ]
  },
  {
   "cell_type": "code",
   "execution_count": 4,
   "id": "6cd868d0",
   "metadata": {},
   "outputs": [
    {
     "name": "stdout",
     "output_type": "stream",
     "text": [
      "Cell at row 1, column B: 5\n",
      "\n"
     ]
    }
   ],
   "source": [
    "# get a cell by row and column name\n",
    "print(f'Cell at row 1, column B: {data_frame.loc[1, \"B\"]}')\n",
    "print()"
   ]
  },
  {
   "cell_type": "code",
   "execution_count": 5,
   "id": "2717606e",
   "metadata": {},
   "outputs": [
    {
     "name": "stdout",
     "output_type": "stream",
     "text": [
      "Change cell at row 1, column 2 to: 100\n",
      "   A  B    C\n",
      "0  1  2    3\n",
      "1  4  5  100\n",
      "2  7  8    9\n",
      "\n"
     ]
    }
   ],
   "source": [
    "# change a cell by row and column index\n",
    "value = 100\n",
    "data_frame.iloc[1, 2] = value\n",
    "print(f\"Change cell at row 1, column 2 to: {value}\")\n",
    "print(data_frame)\n",
    "print()"
   ]
  },
  {
   "cell_type": "code",
   "execution_count": 6,
   "id": "2a13abc7",
   "metadata": {},
   "outputs": [
    {
     "name": "stdout",
     "output_type": "stream",
     "text": [
      "Apply lambda x : x**2 to the first column\n",
      "    A  B    C\n",
      "0   1  2    3\n",
      "1  16  5  100\n",
      "2  49  8    9\n",
      "\n"
     ]
    }
   ],
   "source": [
    "# apply lambda x : x**2 to the first column\n",
    "data_frame[\"A\"] = data_frame[\"A\"].apply(lambda x: x ** 2)\n",
    "print(\"Apply lambda x : x**2 to the first column\")\n",
    "print(data_frame)\n",
    "print()"
   ]
  },
  {
   "cell_type": "code",
   "execution_count": 7,
   "id": "05aac08f",
   "metadata": {},
   "outputs": [
    {
     "name": "stdout",
     "output_type": "stream",
     "text": [
      "    A  B    C     sex\n",
      "0   1  2    3    male\n",
      "1  16  5  100  female\n",
      "2  49  8    9  female\n",
      "\n"
     ]
    }
   ],
   "source": [
    "# add column 'sex' with values 'male' and 'female'\n",
    "data_frame[\"sex\"] = [\"male\", \"female\", \"female\"]\n",
    "print(data_frame)\n",
    "print()"
   ]
  },
  {
   "cell_type": "code",
   "execution_count": 8,
   "id": "92a95623",
   "metadata": {},
   "outputs": [
    {
     "name": "stdout",
     "output_type": "stream",
     "text": [
      "Encoding male as 0 and female as 1\n",
      "    A  B    C  sex\n",
      "0   1  2    3    0\n",
      "1  16  5  100    1\n",
      "2  49  8    9    1\n",
      "\n"
     ]
    }
   ],
   "source": [
    "# change male to 0 and female to 1\n",
    "data_frame[\"sex\"] = [0 if x == \"male\" else 1 for x in data_frame[\"sex\"]]\n",
    "print(\"Encoding male as 0 and female as 1\")\n",
    "print(data_frame)\n",
    "print()"
   ]
  },
  {
   "cell_type": "code",
   "execution_count": 9,
   "id": "5f44fb8f",
   "metadata": {},
   "outputs": [
    {
     "name": "stdout",
     "output_type": "stream",
     "text": [
      "Number of null values in each column\n",
      "A      0\n",
      "B      0\n",
      "C      0\n",
      "sex    0\n",
      "dtype: int64\n",
      "\n"
     ]
    }
   ],
   "source": [
    "# show how many null values in the data frame\n",
    "null_values = data_frame.isnull().sum()\n",
    "print(\"Number of null values in each column\")\n",
    "print(null_values)\n",
    "print()"
   ]
  },
  {
   "cell_type": "code",
   "execution_count": 10,
   "id": "c01d846f",
   "metadata": {},
   "outputs": [
    {
     "name": "stdout",
     "output_type": "stream",
     "text": [
      "Data frame with null values\n",
      "      A    B      C  sex\n",
      "0   NaN  2.0    3.0    0\n",
      "1  16.0  NaN  100.0    1\n",
      "2  49.0  8.0    NaN    1\n",
      "\n"
     ]
    }
   ],
   "source": [
    "# let's put null values at 5 random cells\n",
    "for x, y in zip(np.random.randint(0, 3, 5), np.random.randint(0, 3, 5)):\n",
    "    data_frame.iloc[x, y] = np.nan\n",
    "\n",
    "print(\"Data frame with null values\")\n",
    "print(data_frame)\n",
    "print()"
   ]
  },
  {
   "cell_type": "code",
   "execution_count": 11,
   "id": "2b73d040",
   "metadata": {},
   "outputs": [
    {
     "name": "stdout",
     "output_type": "stream",
     "text": [
      "Number of null values in each column\n",
      "A      1\n",
      "B      1\n",
      "C      1\n",
      "sex    0\n",
      "dtype: int64\n",
      "\n"
     ]
    }
   ],
   "source": [
    "# show how many null values in the data frame\n",
    "null_values = data_frame.isnull().sum()\n",
    "print(\"Number of null values in each column\")\n",
    "print(null_values)\n",
    "print()"
   ]
  },
  {
   "cell_type": "code",
   "execution_count": 12,
   "id": "f48e030c",
   "metadata": {},
   "outputs": [
    {
     "data": {
      "text/plain": [
       "True"
      ]
     },
     "execution_count": 12,
     "metadata": {},
     "output_type": "execute_result"
    }
   ],
   "source": [
    "def any_null_value(data_frame):\n",
    "    return data_frame.isnull().values.any()\n",
    "\n",
    "\n",
    "any_null_value(data_frame)"
   ]
  },
  {
   "cell_type": "code",
   "execution_count": 13,
   "id": "99f02533",
   "metadata": {},
   "outputs": [
    {
     "name": "stdout",
     "output_type": "stream",
     "text": [
      "Data frame without null values\n",
      "Empty DataFrame\n",
      "Columns: [A, B, C, sex]\n",
      "Index: []\n",
      "\n"
     ]
    }
   ],
   "source": [
    "# copy the data frame and drop rows with null values\n",
    "data_frame_without_nulls = data_frame.copy()\n",
    "data_frame_without_nulls.dropna(inplace=True)\n",
    "print(\"Data frame without null values\")\n",
    "print(data_frame_without_nulls)\n",
    "print()"
   ]
  },
  {
   "cell_type": "code",
   "execution_count": 14,
   "id": "030c8c1a",
   "metadata": {},
   "outputs": [
    {
     "name": "stdout",
     "output_type": "stream",
     "text": [
      "Data frame with null values filled with mean\n",
      "      A    B      C  sex\n",
      "0  32.5  2.0    3.0    0\n",
      "1  16.0  5.0  100.0    1\n",
      "2  49.0  8.0   51.5    1\n",
      "\n"
     ]
    }
   ],
   "source": [
    "# fill the null values with mean of the column in the original data frame\n",
    "data_frame.fillna(data_frame.mean(), inplace=True)\n",
    "print(\"Data frame with null values filled with mean\")\n",
    "print(data_frame)\n",
    "print()"
   ]
  }
 ],
 "metadata": {
  "kernelspec": {
   "display_name": "Python 3 (ipykernel)",
   "language": "python",
   "name": "python3"
  },
  "language_info": {
   "codemirror_mode": {
    "name": "ipython",
    "version": 3
   },
   "file_extension": ".py",
   "mimetype": "text/x-python",
   "name": "python",
   "nbconvert_exporter": "python",
   "pygments_lexer": "ipython3",
   "version": "3.10.6"
  }
 },
 "nbformat": 4,
 "nbformat_minor": 5
}
