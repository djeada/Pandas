{
 "cells": [
  {
   "cell_type": "code",
   "execution_count": 1,
   "id": "eba2bd32",
   "metadata": {},
   "outputs": [],
   "source": [
    "from pathlib import Path\n",
    "\n",
    "import pandas as pd\n",
    "import numpy as np"
   ]
  },
  {
   "cell_type": "code",
   "execution_count": 2,
   "id": "d040f923",
   "metadata": {},
   "outputs": [
    {
     "name": "stdout",
     "output_type": "stream",
     "text": [
      "Series from list: \n",
      "0    1\n",
      "1    2\n",
      "2    3\n",
      "3    4\n",
      "4    5\n",
      "dtype: int64\n",
      "\n"
     ]
    }
   ],
   "source": [
    "# Pandas data frame consists of multiple series (they represent both rows and columns)\n",
    "# Series is a one-dimensional array of indexed data\n",
    "# Series can be created from a list or array\n",
    "\n",
    "# Create a series from a list\n",
    "series_from_list = pd.Series([1, 2, 3, 4, 5])\n",
    "print(\"Series from list: \")\n",
    "print(series_from_list)\n",
    "print()"
   ]
  },
  {
   "cell_type": "code",
   "execution_count": 3,
   "id": "bc416641",
   "metadata": {},
   "outputs": [
    {
     "name": "stdout",
     "output_type": "stream",
     "text": [
      "Series from array: \n",
      "0    1\n",
      "1    2\n",
      "2    3\n",
      "3    4\n",
      "4    5\n",
      "dtype: int64\n",
      "\n"
     ]
    }
   ],
   "source": [
    "# Create a series from a numpy array\n",
    "series_from_array = pd.Series(np.array([1, 2, 3, 4, 5]))\n",
    "print(\"Series from array: \")\n",
    "print(series_from_array)\n",
    "print()"
   ]
  },
  {
   "cell_type": "code",
   "execution_count": 4,
   "id": "443097d1",
   "metadata": {},
   "outputs": [
    {
     "name": "stdout",
     "output_type": "stream",
     "text": [
      "Labeled series: \n",
      "a    1\n",
      "b    2\n",
      "c    3\n",
      "d    4\n",
      "e    5\n",
      "dtype: int64\n",
      "\n"
     ]
    }
   ],
   "source": [
    "# you can also add labels to the series\n",
    "labeled_series = pd.Series([1, 2, 3, 4, 5], index=[\"a\", \"b\", \"c\", \"d\", \"e\"])\n",
    "print(\"Labeled series: \")\n",
    "print(labeled_series)\n",
    "print()"
   ]
  },
  {
   "cell_type": "code",
   "execution_count": 5,
   "id": "00e29035",
   "metadata": {},
   "outputs": [
    {
     "name": "stdout",
     "output_type": "stream",
     "text": [
      "Data frame from series stacked as columns: \n",
      "   col_1  col_2\n",
      "a      1      6\n",
      "b      2      7\n",
      "c      3      8\n",
      "d      4      9\n",
      "e      5     10\n",
      "\n"
     ]
    }
   ],
   "source": [
    "# create a data frame from series\n",
    "labeled_series_2 = pd.Series([6, 7, 8, 9, 10], index=[\"a\", \"b\", \"c\", \"d\", \"e\"])\n",
    "\n",
    "data_frame_from_series = pd.DataFrame(\n",
    "    {\"col_1\": labeled_series, \"col_2\": labeled_series_2}\n",
    ")  # as columns\n",
    "print(\"Data frame from series stacked as columns: \")\n",
    "print(data_frame_from_series)\n",
    "print()"
   ]
  },
  {
   "cell_type": "code",
   "execution_count": 6,
   "id": "76c3e48d",
   "metadata": {},
   "outputs": [
    {
     "name": "stdout",
     "output_type": "stream",
     "text": [
      "Data frame from series stacked as rows: \n",
      "   a  b  c  d   e\n",
      "0  1  2  3  4   5\n",
      "1  6  7  8  9  10\n",
      "\n"
     ]
    }
   ],
   "source": [
    "data_frame_from_series_2 = pd.DataFrame([labeled_series, labeled_series_2])  # as rows\n",
    "print(\"Data frame from series stacked as rows: \")\n",
    "print(data_frame_from_series_2)\n",
    "print()"
   ]
  },
  {
   "cell_type": "code",
   "execution_count": 7,
   "id": "27e16c8e",
   "metadata": {},
   "outputs": [
    {
     "name": "stdout",
     "output_type": "stream",
     "text": [
      "Data frame from 2D array: \n",
      "   0  1  2\n",
      "0  1  2  3\n",
      "1  4  5  6\n",
      "2  7  8  9\n",
      "\n"
     ]
    }
   ],
   "source": [
    "# create a data frame from 2D numpy array\n",
    "data_frame_from_array = pd.DataFrame(np.array([[1, 2, 3], [4, 5, 6], [7, 8, 9]]))\n",
    "print(\"Data frame from 2D array: \")\n",
    "print(data_frame_from_array)\n",
    "print()"
   ]
  },
  {
   "cell_type": "code",
   "execution_count": 8,
   "id": "b7a155c0",
   "metadata": {},
   "outputs": [
    {
     "name": "stdout",
     "output_type": "stream",
     "text": [
      "Data frame from dictionary: \n",
      "   col_1  col_2\n",
      "0      1      4\n",
      "1      2      5\n",
      "2      3      6\n",
      "\n"
     ]
    }
   ],
   "source": [
    "# create a data frame from a dictionary\n",
    "data_frame_from_dict = pd.DataFrame({\"col_1\": [1, 2, 3], \"col_2\": [4, 5, 6]})\n",
    "print(\"Data frame from dictionary: \")\n",
    "print(data_frame_from_dict)\n",
    "print()"
   ]
  },
  {
   "cell_type": "code",
   "execution_count": 9,
   "id": "9ec63151",
   "metadata": {},
   "outputs": [
    {
     "name": "stdout",
     "output_type": "stream",
     "text": [
      "Data frame from csv file: \n",
      "   col_1  col_2  col_3\n",
      "0      1      2      3\n",
      "1      4      5      6\n",
      "2      7      8      9\n",
      "\n"
     ]
    }
   ],
   "source": [
    "# create a data frame from csv file\n",
    "content = [\"col_1,col_2,col_3\", \"1,2,3\", \"4,5,6\", \"7,8,9\"]  # first we need a csv file\n",
    "path = Path(\"data.csv\")\n",
    "path.write_text(\"\\n\".join(content))\n",
    "data_frame_from_csv = pd.read_csv(path)\n",
    "path.unlink()  # delete the file\n",
    "print(\"Data frame from csv file: \")\n",
    "print(data_frame_from_csv)\n",
    "print()"
   ]
  },
  {
   "cell_type": "code",
   "execution_count": 10,
   "id": "b19a12a4",
   "metadata": {},
   "outputs": [
    {
     "name": "stdout",
     "output_type": "stream",
     "text": [
      "Shape of the data frame: \n",
      "(3, 3)\n",
      "\n"
     ]
    }
   ],
   "source": [
    "# we have a lot of functions implented for dealing with data frames\n",
    "# for example we can get the shape of the data frame\n",
    "print(\"Shape of the data frame: \")\n",
    "print(data_frame_from_csv.shape)\n",
    "print()"
   ]
  },
  {
   "cell_type": "code",
   "execution_count": 11,
   "id": "e9f4eea6",
   "metadata": {},
   "outputs": [
    {
     "name": "stdout",
     "output_type": "stream",
     "text": [
      "Number of rows:  3\n",
      "Number of columns:  3\n",
      "\n"
     ]
    }
   ],
   "source": [
    "# or easier, number of rows and columns\n",
    "n_rows, n_cols = data_frame_from_csv.shape\n",
    "print(\"Number of rows: \", n_rows)\n",
    "print(\"Number of columns: \", n_cols)\n",
    "print()"
   ]
  },
  {
   "cell_type": "code",
   "execution_count": 12,
   "id": "610e852a",
   "metadata": {},
   "outputs": [
    {
     "name": "stdout",
     "output_type": "stream",
     "text": [
      "Column names: \n",
      "Index(['col_1', 'col_2', 'col_3'], dtype='object')\n",
      "\n"
     ]
    }
   ],
   "source": [
    "# we can get the column names\n",
    "print(\"Column names: \")\n",
    "print(data_frame_from_csv.columns)\n",
    "print()"
   ]
  },
  {
   "cell_type": "code",
   "execution_count": 13,
   "id": "5d933286",
   "metadata": {},
   "outputs": [
    {
     "name": "stdout",
     "output_type": "stream",
     "text": [
      "Second column: \n",
      "0    2\n",
      "1    5\n",
      "2    8\n",
      "Name: col_2, dtype: int64\n",
      "\n"
     ]
    }
   ],
   "source": [
    "# we can get the second column\n",
    "print(\"Second column: \")\n",
    "print(data_frame_from_csv[data_frame_from_csv.columns[1]])\n",
    "print()"
   ]
  },
  {
   "cell_type": "code",
   "execution_count": 14,
   "id": "20808c13",
   "metadata": {},
   "outputs": [
    {
     "name": "stdout",
     "output_type": "stream",
     "text": [
      "Last row: \n",
      "col_1    7\n",
      "col_2    8\n",
      "col_3    9\n",
      "Name: 2, dtype: int64\n",
      "\n"
     ]
    }
   ],
   "source": [
    "# we can get the last row\n",
    "print(\"Last row: \")\n",
    "print(data_frame_from_csv.iloc[-1])\n",
    "print()"
   ]
  },
  {
   "cell_type": "code",
   "execution_count": 15,
   "id": "67bc4f5f",
   "metadata": {},
   "outputs": [
    {
     "name": "stdout",
     "output_type": "stream",
     "text": [
      "Mean of the data frame: \n",
      "col_1    4.0\n",
      "col_2    5.0\n",
      "col_3    6.0\n",
      "dtype: float64\n",
      "\n",
      "Mean of the second column: \n",
      "5.0\n",
      "\n"
     ]
    }
   ],
   "source": [
    "# useful statistics\n",
    "print(\"Mean of the data frame: \")\n",
    "print(data_frame_from_csv.mean())\n",
    "print()\n",
    "\n",
    "print(\"Mean of the second column: \")\n",
    "print(data_frame_from_csv[data_frame_from_csv.columns[1]].mean())\n",
    "print()"
   ]
  },
  {
   "cell_type": "code",
   "execution_count": 16,
   "id": "5b782bee",
   "metadata": {},
   "outputs": [
    {
     "name": "stdout",
     "output_type": "stream",
     "text": [
      "Data frame to numpy array: \n",
      "[[1 2 3]\n",
      " [4 5 6]\n",
      " [7 8 9]]\n",
      "\n"
     ]
    }
   ],
   "source": [
    "# we can also transform the data frame to numpy array\n",
    "print(\"Data frame to numpy array: \")\n",
    "print(data_frame_from_csv.to_numpy())\n",
    "print()"
   ]
  }
 ],
 "metadata": {
  "kernelspec": {
   "display_name": "Python 3 (ipykernel)",
   "language": "python",
   "name": "python3"
  },
  "language_info": {
   "codemirror_mode": {
    "name": "ipython",
    "version": 3
   },
   "file_extension": ".py",
   "mimetype": "text/x-python",
   "name": "python",
   "nbconvert_exporter": "python",
   "pygments_lexer": "ipython3",
   "version": "3.10.6"
  }
 },
 "nbformat": 4,
 "nbformat_minor": 5
}
