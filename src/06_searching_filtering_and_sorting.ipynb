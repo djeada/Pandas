{
 "cells": [
  {
   "cell_type": "code",
   "execution_count": 7,
   "id": "cf255acf",
   "metadata": {},
   "outputs": [
    {
     "ename": "SyntaxError",
     "evalue": "invalid syntax (2307802567.py, line 2)",
     "output_type": "error",
     "traceback": [
      "\u001b[0;36m  Cell \u001b[0;32mIn [7], line 2\u001b[0;36m\u001b[0m\n\u001b[0;31m    import pandas as\u001b[0m\n\u001b[0m                     ^\u001b[0m\n\u001b[0;31mSyntaxError\u001b[0m\u001b[0;31m:\u001b[0m invalid syntax\n"
     ]
    }
   ],
   "source": [
    "import numpy as np\n",
    "import pandas as pd"
   ]
  },
  {
   "cell_type": "code",
   "execution_count": null,
   "id": "12a07b7e",
   "metadata": {},
   "outputs": [],
   "source": [
    "data_frame = pd.DataFrame(\n",
    "    np.array([[1, 2, 3], [4, 5, 6], [7, 8, 9]]), columns=[\"A\", \"B\", \"C\"]\n",
    ")"
   ]
  },
  {
   "cell_type": "code",
   "execution_count": 8,
   "id": "7c74b599",
   "metadata": {},
   "outputs": [
    {
     "name": "stdout",
     "output_type": "stream",
     "text": [
      "Select rows where column A is divisible by 2\n",
      "   A  B  C\n",
      "1  4  5  6\n",
      "\n"
     ]
    }
   ],
   "source": [
    "# select rows where column 'A' is divisible by 2\n",
    "print(\"Select rows where column A is divisible by 2\")\n",
    "print(data_frame[data_frame[\"A\"] % 2 == 0])\n",
    "print()"
   ]
  },
  {
   "cell_type": "code",
   "execution_count": 9,
   "id": "6bbce383",
   "metadata": {},
   "outputs": [
    {
     "name": "stdout",
     "output_type": "stream",
     "text": [
      "Show which values are divisible by 3\n",
      "       A      B     C\n",
      "0  False  False  True\n",
      "1  False  False  True\n",
      "2  False  False  True\n",
      "\n"
     ]
    }
   ],
   "source": [
    "# show which values are divisible by 3\n",
    "print(\"Show which values are divisible by 3\")\n",
    "print(data_frame % 3 == 0)\n",
    "print()"
   ]
  },
  {
   "cell_type": "code",
   "execution_count": 10,
   "id": "c2193713",
   "metadata": {},
   "outputs": [
    {
     "name": "stdout",
     "output_type": "stream",
     "text": [
      "Show group by result\n",
      "   B  C\n",
      "A      \n",
      "1  2  3\n",
      "4  5  6\n",
      "7  8  9\n",
      "\n"
     ]
    }
   ],
   "source": [
    "# show 'group by' result\n",
    "print(\"Show group by result\")\n",
    "print(data_frame.groupby(\"A\").sum())\n",
    "print()"
   ]
  },
  {
   "cell_type": "code",
   "execution_count": 11,
   "id": "4d8803ec",
   "metadata": {},
   "outputs": [
    {
     "name": "stdout",
     "output_type": "stream",
     "text": [
      "                Units Consumed\n",
      "Favorite Drink                \n",
      "A                        479.5\n",
      "B                         42.0\n",
      "C                        563.0\n",
      "                Units Consumed\n",
      "Favorite Drink                \n",
      "A                          959\n",
      "B                           42\n",
      "C                         1689\n",
      "               Units Consumed           \n",
      "                         mean  min   max\n",
      "Favorite Drink                          \n",
      "A                       479.5  435   524\n",
      "B                        42.0   42    42\n",
      "C                       563.0  234  1000\n"
     ]
    },
    {
     "name": "stderr",
     "output_type": "stream",
     "text": [
      "/tmp/ipykernel_5718/3746133296.py:17: FutureWarning: ['Name'] did not aggregate successfully. If any error is raised this will raise in a future version of pandas. Drop these columns/ops to avoid this warning.\n",
      "  print(data_frame.groupby(\"Favorite Drink\").agg([np.mean, min, max]))\n"
     ]
    }
   ],
   "source": [
    "# well not much has changed, that's because we don't have repetitions in our datafram\n",
    "# let's use different example\n",
    "data_frame = pd.DataFrame(\n",
    "    [\n",
    "        [\"A\", \"Adam\", 435],\n",
    "        [\"B\", \"Morgan\", 42],\n",
    "        [\"C\", \"Khaled\", 234],\n",
    "        [\"A\", \"Xi\", 524],\n",
    "        [\"C\", \"James\", 455],\n",
    "        [\"C\", \"Nicko\", 1000],\n",
    "    ],\n",
    "    columns=[\"Favorite Drink\", \"Name\", \"Units Consumed\"],\n",
    ")\n",
    "\n",
    "print(data_frame.groupby(\"Favorite Drink\").mean(numeric_only=True))\n",
    "print(data_frame.groupby(\"Favorite Drink\").sum(numeric_only=True))\n",
    "print(data_frame.groupby(\"Favorite Drink\").agg([np.mean, min, max]))"
   ]
  },
  {
   "cell_type": "code",
   "execution_count": null,
   "id": "b60df582",
   "metadata": {},
   "outputs": [],
   "source": []
  }
 ],
 "metadata": {
  "kernelspec": {
   "display_name": "Python 3 (ipykernel)",
   "language": "python",
   "name": "python3"
  },
  "language_info": {
   "codemirror_mode": {
    "name": "ipython",
    "version": 3
   },
   "file_extension": ".py",
   "mimetype": "text/x-python",
   "name": "python",
   "nbconvert_exporter": "python",
   "pygments_lexer": "ipython3",
   "version": "3.10.6"
  }
 },
 "nbformat": 4,
 "nbformat_minor": 5
}
