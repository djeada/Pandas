{
 "cells": [
  {
   "cell_type": "code",
   "execution_count": 1,
   "id": "19ac0b5b",
   "metadata": {},
   "outputs": [],
   "source": [
    "import numpy as np\n",
    "import pandas as pd"
   ]
  },
  {
   "cell_type": "code",
   "execution_count": 2,
   "id": "5bd77b0f",
   "metadata": {},
   "outputs": [],
   "source": [
    "data_frame = pd.DataFrame(\n",
    "    np.array([[1, 2, 3], [4, 5, 6], [7, 8, 9]]), columns=[\"A\", \"B\", \"C\"]\n",
    ")"
   ]
  },
  {
   "cell_type": "code",
   "execution_count": 3,
   "id": "5e387cdf",
   "metadata": {},
   "outputs": [
    {
     "name": "stdout",
     "output_type": "stream",
     "text": [
      "Select column A\n",
      "0    1\n",
      "1    4\n",
      "2    7\n",
      "Name: A, dtype: int64\n",
      "\n"
     ]
    }
   ],
   "source": [
    "# select column 'A'\n",
    "print(\"Select column A\")\n",
    "print(data_frame[\"A\"])\n",
    "print()"
   ]
  },
  {
   "cell_type": "code",
   "execution_count": 4,
   "id": "a627030a",
   "metadata": {},
   "outputs": [
    {
     "name": "stdout",
     "output_type": "stream",
     "text": [
      "Select column on index 1\n",
      "0    2\n",
      "1    5\n",
      "2    8\n",
      "Name: B, dtype: int64\n",
      "\n"
     ]
    }
   ],
   "source": [
    "# select column by index\n",
    "print(\"Select column on index 1\")\n",
    "print(data_frame.iloc[:, 1])\n",
    "print()"
   ]
  },
  {
   "cell_type": "code",
   "execution_count": 5,
   "id": "133c720b",
   "metadata": {},
   "outputs": [
    {
     "name": "stdout",
     "output_type": "stream",
     "text": [
      "Select columns on indices from 0 to 1\n",
      "   A  B\n",
      "0  1  2\n",
      "1  4  5\n",
      "2  7  8\n",
      "\n"
     ]
    }
   ],
   "source": [
    "# select multiple columns by index\n",
    "print(\"Select columns on indices from 0 to 1\")\n",
    "print(data_frame.iloc[:, 0:2])\n",
    "print()"
   ]
  },
  {
   "cell_type": "code",
   "execution_count": 6,
   "id": "03c1f2c2",
   "metadata": {},
   "outputs": [
    {
     "name": "stdout",
     "output_type": "stream",
     "text": [
      "Exchange column C with a list\n",
      "   A  B   C\n",
      "0  1  2  10\n",
      "1  4  5  20\n",
      "2  7  8  30\n",
      "\n"
     ]
    }
   ],
   "source": [
    "# exchange column with a list\n",
    "example_list = [10, 20, 30]\n",
    "data_frame[\"C\"] = example_list\n",
    "print(\"Exchange column C with a list\")\n",
    "print(data_frame)\n",
    "print()"
   ]
  },
  {
   "cell_type": "code",
   "execution_count": 7,
   "id": "b5f90913",
   "metadata": {},
   "outputs": [
    {
     "name": "stdout",
     "output_type": "stream",
     "text": [
      "Append column D at the end of the data frame\n",
      "   A  B   C     D\n",
      "0  1  2  10   dog\n",
      "1  4  5  20   cat\n",
      "2  7  8  30  bird\n",
      "\n"
     ]
    }
   ],
   "source": [
    "# append column at the end of the data frame\n",
    "data_frame[\"D\"] = [\"dog\", \"cat\", \"bird\"]\n",
    "print(\"Append column D at the end of the data frame\")\n",
    "print(data_frame)\n",
    "print()"
   ]
  },
  {
   "cell_type": "code",
   "execution_count": 8,
   "id": "2c800a9e",
   "metadata": {},
   "outputs": [
    {
     "name": "stdout",
     "output_type": "stream",
     "text": [
      "Add column E at index 1\n",
      "   A  E  B   C     D\n",
      "0  1  1  2  10   dog\n",
      "1  4  2  5  20   cat\n",
      "2  7  3  8  30  bird\n",
      "\n"
     ]
    }
   ],
   "source": [
    "# add column 'E' with values 1, 2, 3 at index 1\n",
    "data_frame.insert(1, \"E\", [1, 2, 3])\n",
    "print(\"Add column E at index 1\")\n",
    "print(data_frame)\n",
    "print()"
   ]
  },
  {
   "cell_type": "code",
   "execution_count": 9,
   "id": "ad030765",
   "metadata": {},
   "outputs": [
    {
     "name": "stdout",
     "output_type": "stream",
     "text": [
      "Drop column E\n",
      "   A  B   C     D\n",
      "0  1  2  10   dog\n",
      "1  4  5  20   cat\n",
      "2  7  8  30  bird\n",
      "\n"
     ]
    }
   ],
   "source": [
    "# drop column 'E'\n",
    "data_frame.drop(\"E\", axis=1, inplace=True)\n",
    "print(\"Drop column E\")\n",
    "print(data_frame)\n",
    "print()"
   ]
  },
  {
   "cell_type": "code",
   "execution_count": 10,
   "id": "a1a56ce0",
   "metadata": {},
   "outputs": [
    {
     "name": "stdout",
     "output_type": "stream",
     "text": [
      "Drop column at index 1\n",
      "   A   C     D\n",
      "0  1  10   dog\n",
      "1  4  20   cat\n",
      "2  7  30  bird\n",
      "\n"
     ]
    }
   ],
   "source": [
    "# drop column at index 1\n",
    "data_frame.drop(data_frame.columns[1], axis=1, inplace=True)\n",
    "print(\"Drop column at index 1\")\n",
    "print(data_frame)\n",
    "print()"
   ]
  },
  {
   "cell_type": "code",
   "execution_count": 11,
   "id": "261cebe6",
   "metadata": {},
   "outputs": [
    {
     "name": "stdout",
     "output_type": "stream",
     "text": [
      "   A   C\n",
      "0  1  10\n",
      "1  4  20\n",
      "2  7  30\n"
     ]
    }
   ],
   "source": [
    "# remove non-numeric columns\n",
    "def remove_non_numeric_columns(data_frame):\n",
    "    non_floats = []\n",
    "    for col in data_frame:\n",
    "        if not pd.api.types.is_numeric_dtype(data_frame[col]):\n",
    "            non_floats.append(col)\n",
    "    result = data_frame.drop(columns=non_floats)\n",
    "    return result\n",
    "\n",
    "\n",
    "result = remove_non_numeric_columns(data_frame)\n",
    "print(result)"
   ]
  },
  {
   "cell_type": "code",
   "execution_count": 12,
   "id": "790ea9cb",
   "metadata": {},
   "outputs": [
    {
     "name": "stdout",
     "output_type": "stream",
     "text": [
      "Rename columns\n",
      "   geography  income   age\n",
      "0          1      10   dog\n",
      "1          4      20   cat\n",
      "2          7      30  bird\n",
      "\n"
     ]
    }
   ],
   "source": [
    "# rename columns 'A' to 'geography' and 'D' to 'age' and 'C' to 'income'\n",
    "data_frame.rename(columns={\"A\": \"geography\", \"D\": \"age\", \"C\": \"income\"}, inplace=True)\n",
    "print(\"Rename columns\")\n",
    "print(data_frame)\n",
    "print()"
   ]
  }
 ],
 "metadata": {
  "kernelspec": {
   "display_name": "Python 3 (ipykernel)",
   "language": "python",
   "name": "python3"
  },
  "language_info": {
   "codemirror_mode": {
    "name": "ipython",
    "version": 3
   },
   "file_extension": ".py",
   "mimetype": "text/x-python",
   "name": "python",
   "nbconvert_exporter": "python",
   "pygments_lexer": "ipython3",
   "version": "3.10.6"
  }
 },
 "nbformat": 4,
 "nbformat_minor": 5
}
